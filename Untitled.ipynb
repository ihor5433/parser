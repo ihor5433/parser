{
 "cells": [
  {
   "cell_type": "code",
   "execution_count": 1,
   "metadata": {
    "tags": []
   },
   "outputs": [
    {
     "output_type": "stream",
     "name": "stdout",
     "text": "[                   Next EPS Date 11/4/20 *Est.       EPS Growth Rate  \\\n0        Average EPS % Beat Rate       -106.1%   Revenue Growth Rate   \n1  Average % Move 1-Wk after EPS         +6.8%  Normal Earnings Time   \n\n           N/A  \n0          NaN  \n1  Before Open  ,       Date  Unnamed: 1   Qtr     EPS  Cons. Surprise      Revs   Cons..1 Gd.  \\\n0   8/4/20         NaN  Q220   $0.08  $0.19   -$0.11   $232.1M  $196.28M   =   \n1   5/5/20         NaN  Q120   $0.00  $0.12   -$0.12  $191.44M   $177.4M   =   \n2  2/25/20         NaN  Q419  -$0.10  $0.06   -$0.16   $149.5M  $142.26M   =   \n\n   1-Week %  1-Day %  Details  \n0       NaN      NaN  Details  \n1       NaN      NaN  Details  \n2       NaN      NaN  Details  ]\n"
    }
   ],
   "source": [
    "from bs4 import BeautifulSoup\n",
    "import prettify\n",
    "import pandas as pd\n",
    "with open('AdaptHealth Corp. (AHCO) Earnings.html','r') as file:\n",
    "    soup = BeautifulSoup(file.read(), features=\"lxml\")\n",
    "    mydivs = soup.find(\"table\", {\"class\": \"earning_history\"})\n",
    "    #\n",
    "    #file.read(mydivs)\n",
    "    with open('test1.csv','w') as f:\n",
    "        f.write(soup.find(\"table\", {\"class\": \"earning_history\"}).get_text())\n",
    "        tables = soup.find(\"table\", {\"class\": \"earning_history\"}).get_text()\n",
    "#result = pd.DataFrame()\n",
    "#for item in tables:\n",
    "    #res = parse_table(item)\n",
    "#result = result.append(mydivs)\n",
    "#result.to_excel('res.xlsx')\n",
    "df = pd.read_html('AdaptHealth Corp. (AHCO) Earnings.html',header=0)\n",
    "result = pd.DataFrame(df)\n",
    "\n",
    "print(df)\n",
    "#print(mydivs.get_text())"
   ]
  },
  {
   "cell_type": "code",
   "execution_count": null,
   "metadata": {},
   "outputs": [],
   "source": []
  }
 ],
 "metadata": {
  "kernelspec": {
   "name": "python_defaultSpec_1597394430284",
   "display_name": "Python 3.8.5 64-bit"
  }
 },
 "nbformat": 4,
 "nbformat_minor": 4
}